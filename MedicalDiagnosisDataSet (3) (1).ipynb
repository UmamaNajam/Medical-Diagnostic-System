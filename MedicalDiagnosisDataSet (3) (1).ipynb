{
  "cells": [
    {
      "cell_type": "code",
      "execution_count": 1,
      "metadata": {
        "colab": {
          "base_uri": "https://localhost:8080/"
        },
        "id": "FLNj-Mx1OXMo",
        "outputId": "e88dd071-30a2-4849-bdcb-2f05b05581d7"
      },
      "outputs": [
        {
          "output_type": "stream",
          "name": "stdout",
          "text": [
            "41 Diseases to be Diagnosed\n",
            "['Fungal infection', 'Allergy', 'GERD', 'Chronic cholestasis', 'Drug Reaction', 'Peptic ulcer diseae', 'AIDS', 'Diabetes ', 'Gastroenteritis', 'Bronchial Asthma', 'Hypertension ', 'Migraine', 'Cervical spondylosis', 'Paralysis (brain hemorrhage)', 'Jaundice', 'Malaria', 'Chicken pox', 'Dengue', 'Typhoid', 'hepatitis A', 'Hepatitis B', 'Hepatitis C', 'Hepatitis D', 'Hepatitis E', 'Alcoholic hepatitis', 'Tuberculosis', 'Common Cold', 'Pneumonia', 'Dimorphic hemmorhoids(piles)', 'Heart attack', 'Varicose veins', 'Hypothyroidism', 'Hyperthyroidism', 'Hypoglycemia', 'Osteoarthristis', 'Arthritis', '(vertigo) Paroymsal  Positional Vertigo', 'Acne', 'Urinary tract infection', 'Psoriasis', 'Impetigo']\n",
            "      itching  skin_rash  nodal_skin_eruptions  continuous_sneezing  \\\n",
            "0           1          1                     1                    0   \n",
            "1           0          1                     1                    0   \n",
            "2           1          0                     1                    0   \n",
            "3           1          1                     0                    0   \n",
            "4           1          1                     1                    0   \n",
            "...       ...        ...                   ...                  ...   \n",
            "4915        0          0                     0                    0   \n",
            "4916        0          1                     0                    0   \n",
            "4917        0          0                     0                    0   \n",
            "4918        0          1                     0                    0   \n",
            "4919        0          1                     0                    0   \n",
            "\n",
            "      shivering  chills  joint_pain  stomach_pain  acidity  ulcers_on_tongue  \\\n",
            "0             0       0           0             0        0                 0   \n",
            "1             0       0           0             0        0                 0   \n",
            "2             0       0           0             0        0                 0   \n",
            "3             0       0           0             0        0                 0   \n",
            "4             0       0           0             0        0                 0   \n",
            "...         ...     ...         ...           ...      ...               ...   \n",
            "4915          0       0           0             0        0                 0   \n",
            "4916          0       0           0             0        0                 0   \n",
            "4917          0       0           0             0        0                 0   \n",
            "4918          0       0           1             0        0                 0   \n",
            "4919          0       0           0             0        0                 0   \n",
            "\n",
            "      ...  blackheads  scurring  skin_peeling  silver_like_dusting  \\\n",
            "0     ...           0         0             0                    0   \n",
            "1     ...           0         0             0                    0   \n",
            "2     ...           0         0             0                    0   \n",
            "3     ...           0         0             0                    0   \n",
            "4     ...           0         0             0                    0   \n",
            "...   ...         ...       ...           ...                  ...   \n",
            "4915  ...           0         0             0                    0   \n",
            "4916  ...           1         1             0                    0   \n",
            "4917  ...           0         0             0                    0   \n",
            "4918  ...           0         0             1                    1   \n",
            "4919  ...           0         0             0                    0   \n",
            "\n",
            "      small_dents_in_nails  inflammatory_nails  blister  red_sore_around_nose  \\\n",
            "0                        0                   0        0                     0   \n",
            "1                        0                   0        0                     0   \n",
            "2                        0                   0        0                     0   \n",
            "3                        0                   0        0                     0   \n",
            "4                        0                   0        0                     0   \n",
            "...                    ...                 ...      ...                   ...   \n",
            "4915                     0                   0        0                     0   \n",
            "4916                     0                   0        0                     0   \n",
            "4917                     0                   0        0                     0   \n",
            "4918                     1                   1        0                     0   \n",
            "4919                     0                   0        1                     1   \n",
            "\n",
            "      yellow_crust_ooze                                prognosis  \n",
            "0                     0                         Fungal infection  \n",
            "1                     0                         Fungal infection  \n",
            "2                     0                         Fungal infection  \n",
            "3                     0                         Fungal infection  \n",
            "4                     0                         Fungal infection  \n",
            "...                 ...                                      ...  \n",
            "4915                  0  (vertigo) Paroymsal  Positional Vertigo  \n",
            "4916                  0                                     Acne  \n",
            "4917                  0                  Urinary tract infection  \n",
            "4918                  0                                Psoriasis  \n",
            "4919                  1                                 Impetigo  \n",
            "\n",
            "[4920 rows x 133 columns]\n",
            "Logistic Regression:\n",
            "Accuracy: 1.0\n",
            "Precision: 1.0\n",
            "Recall: 1.0\n",
            "F1 Score: 1.0\n",
            "\n",
            "Decision Tree Classifier:\n",
            "Accuracy: 1.0\n",
            "Precision: 1.0\n",
            "Recall: 1.0\n",
            "F1 Score: 1.0\n",
            "\n",
            "Decision Tree Classifier saved as best_model.pkl\n"
          ]
        }
      ],
      "source": [
        "#20l-0978\n",
        "#20l-1034\n",
        "#20l-1096\n",
        "\n",
        "# Part1\n",
        "import pandas as pd\n",
        "import numpy as np\n",
        "df=pd.read_csv('/content/Training.csv', header=0)\n",
        "\n",
        "#Insert 2 Columns Female/Male, Drop Gender column\n",
        "df.insert(2,'Male',None)\n",
        "df.insert(2,'Female',None)\n",
        "# df.insert(len(df.columns),'Numerical',None)\n",
        "df['Female']=df['Gender'].map({1:0,2:1})\n",
        "df['Male']=df['Gender'].map({1:1,2:0})\n",
        "df=df.drop(['Gender'],axis=1)\n",
        "\n",
        "\n",
        "#Insert 0 in place of Null Values\n",
        "df=df.fillna(0)\n",
        "\n",
        "#Drop rows if prognosis is null\n",
        "df=df.dropna(subset='prognosis')\n",
        "DiseaseLst=df['prognosis'].unique()\n",
        "count=len(DiseaseLst)\n",
        "print(count, \"Diseases to be Diagnosed\")\n",
        "\n",
        "DiseaseLst=DiseaseLst.tolist()\n",
        "print(DiseaseLst)\n",
        "# o=0;\n",
        "# df['Numerical']=df['prognosis'].map({DiseaseLst[o]:o})\n",
        "# o+=1\n",
        "# df['Numerical']=df['prognosis'].map({DiseaseLst[o]:o})\n",
        "\n",
        "\n",
        "#Load Precautions and find unique precautions to insert new cols\n",
        "prec=pd.read_csv('/content/symptom_precaution.csv', header=0)\n",
        "\n",
        "# here//////////////////////////////////////////////////////////////////////////////////////\n",
        "lst=[]\n",
        "lst=pd.unique(prec[['Precaution_1','Precaution_2','Precaution_3','Precaution_4']].values.ravel())\n",
        "for each in lst:\n",
        "  prec.insert(len(prec.columns),each,None)\n",
        "\n",
        "#One hot encoding for precautions\n",
        "j=0\n",
        "for i in prec['Precaution_1']:\n",
        "  for each in lst:\n",
        "    if i==each:\n",
        "      prec[i][j]=1\n",
        "  j+=1\n",
        "j=0\n",
        "for i in prec['Precaution_2']:\n",
        "  for each in lst:\n",
        "    if i==each:\n",
        "      prec[i][j]=1\n",
        "  j+=1\n",
        "j=0\n",
        "for i in prec['Precaution_3']:\n",
        "  for each in lst:\n",
        "    if i==each:\n",
        "      prec[i][j]=1\n",
        "  j+=1\n",
        "j=0\n",
        "for i in prec['Precaution_4']:\n",
        "  for each in lst:\n",
        "    if i==each:\n",
        "      prec[i][j]=1\n",
        "  j+=1\n",
        "\n",
        "#Fill Null Cells with 0\n",
        "prec=prec.fillna(0)\n",
        "\n",
        "prec=prec.drop(['Precaution_1','Precaution_2','Precaution_3','Precaution_4'],axis=1)\n",
        "# Till here/////////////////////////////////////////////////////////\n",
        "\n",
        "\n",
        "#Merge the two on prognosis\n",
        "# prec=prec.rename(columns={'Disease':'prognosis'})\n",
        "# df=pd.merge(df,prec, on='prognosis')\n",
        "\n",
        "\n",
        "#Save csv file\n",
        "df=df.drop(['PatientID','Age','Male','Female'],axis=1)\n",
        "print(df)\n",
        "df=df.to_csv('DataSet.csv')\n",
        "\n",
        "\n",
        "# Part2\n",
        "import pandas as pd\n",
        "from sklearn.model_selection import train_test_split\n",
        "from sklearn.linear_model import LogisticRegression\n",
        "from sklearn.tree import DecisionTreeClassifier\n",
        "from sklearn.metrics import accuracy_score, precision_score, recall_score, f1_score\n",
        "\n",
        "# Load the dataset\n",
        "data = pd.read_csv('/content/DataSet.csv') \n",
        "data=data.drop(['Unnamed: 0'],axis=1)\n",
        "# Split the dataset into features and target variable\n",
        "X = data.drop('prognosis', axis=1)\n",
        "y = data['prognosis']\n",
        "\n",
        "# Split the dataset into training and testing sets\n",
        "X_train, X_test, y_train, y_test = train_test_split(X, y, test_size=0.2, random_state=42)\n",
        "\n",
        "# Train a logistic regression model\n",
        "lr_model = LogisticRegression(max_iter=1000)\n",
        "\n",
        "lr_model.fit(X_train, y_train)\n",
        "\n",
        "# Train a decision tree classifier model\n",
        "dt_model = DecisionTreeClassifier()\n",
        "dt_model.fit(X_train, y_train)\n",
        "\n",
        "# Make predictions on the testing set\n",
        "lr_preds = lr_model.predict(X_test)\n",
        "dt_preds = dt_model.predict(X_test)\n",
        "\n",
        "# Evaluate the performance of the logistic regression model\n",
        "lr_accuracy = accuracy_score(y_test, lr_preds)\n",
        "lr_precision = precision_score(y_test, lr_preds,average='micro')\n",
        "lr_recall = recall_score(y_test, lr_preds,average='micro')\n",
        "lr_f1_score = f1_score(y_test, lr_preds,average='micro')\n",
        "\n",
        "# Evaluate the performance of the decision tree classifier model\n",
        "dt_accuracy = accuracy_score(y_test, dt_preds)\n",
        "dt_precision = precision_score(y_test, dt_preds,average='micro')\n",
        "dt_recall = recall_score(y_test, dt_preds,average='micro')\n",
        "dt_f1_score = f1_score(y_test, dt_preds,average='micro')\n",
        "\n",
        "# Print evaluation metrics for both models\n",
        "print('Logistic Regression:')\n",
        "print('Accuracy:', lr_accuracy)\n",
        "print('Precision:', lr_precision)\n",
        "print('Recall:', lr_recall)\n",
        "print('F1 Score:', lr_f1_score)\n",
        "\n",
        "print('\\nDecision Tree Classifier:')\n",
        "print('Accuracy:', dt_accuracy)\n",
        "print('Precision:', dt_precision)\n",
        "print('Recall:', dt_recall)\n",
        "print('F1 Score:', dt_f1_score)\n",
        "\n",
        "# Save the best performing model (in this example, the one with highest accuracy)\n",
        "if lr_accuracy > dt_accuracy:\n",
        "    best_model = lr_model\n",
        "    best_model_name = 'Logistic Regression'\n",
        "else:\n",
        "    best_model = dt_model\n",
        "    best_model_name = 'Decision Tree Classifier'\n",
        "\n",
        "# Save the best model for further processing\n",
        "import joblib\n",
        "joblib.dump(best_model, 'best_model.pkl')  # Replace with the desired filename for the saved model\n",
        "print(f'\\n{best_model_name} saved as best_model.pkl')\n",
        "\n",
        "model = joblib.load('best_model.pkl')\n",
        "\n",
        "\n",
        "\n",
        "\n",
        "# part 3\n"
      ]
    },
    {
      "cell_type": "code",
      "execution_count": 7,
      "metadata": {
        "colab": {
          "base_uri": "https://localhost:8080/"
        },
        "id": "3ZJupZD4TqV3",
        "outputId": "c85a1003-9389-4ed3-9147-752d3b80e9e0"
      },
      "outputs": [
        {
          "output_type": "stream",
          "name": "stdout",
          "text": [
            "Overwriting app.py\n"
          ]
        }
      ],
      "source": [
        "%%writefile app.py\n",
        "import pandas as pd\n",
        "import streamlit as st\n",
        "import joblib\n",
        "\n",
        "# Load the saved model\n",
        "model = joblib.load('best_model.pkl')  # Replace with the path to your saved model\n",
        "\n",
        "# Load the dataset\n",
        "data = pd.read_csv('/content/DataSet.csv')\n",
        "data=data.drop(['Unnamed: 0'],axis=1)\n",
        "# Set up the app layout\n",
        "st.set_page_config(page_title='Medical Diagnosis', page_icon=':microscope:')\n",
        "st.title('Medical Diagnosis')\n",
        "st.write('Enter the patient symptoms below and click the \"Diagnose\" button to get a diagnosis.')\n",
        "\n",
        "# Create input fields for symptoms\n",
        "input_cols = data.columns[:-1]\n",
        "input_vals = []\n",
        "for col in input_cols:\n",
        "    input_val = st.radio(col, ('Yes','No'))\n",
        "    if input_val=='Yes':\n",
        "      input_val=1\n",
        "    else:\n",
        "      input_val=0\n",
        "    input_vals.append(input_val)\n",
        "\n",
        "# Create a button to diagnose the patient\n",
        "if st.button('Diagnose'):\n",
        "    # Create a DataFrame from the input values\n",
        "    input_data = pd.DataFrame([input_vals], columns=input_cols)\n",
        "\n",
        "\n",
        "    # Make a prediction using the model\n",
        "    prediction = model.predict(input_data)\n",
        "    # Print the diagnosis\n",
        "    st.write(f'Diagnosis: {prediction[0]}') \n"
      ]
    },
    {
      "cell_type": "code",
      "execution_count": 3,
      "metadata": {
        "colab": {
          "base_uri": "https://localhost:8080/"
        },
        "id": "1mSP-yUZH3qn",
        "outputId": "4ab9d359-9dcd-4dac-b956-841c851c4950"
      },
      "outputs": [
        {
          "output_type": "stream",
          "name": "stdout",
          "text": [
            "\u001b[2K     \u001b[90m━━━━━━━━━━━━━━━━━━━━━━━━━━━━━━━━━━━━━━━━\u001b[0m \u001b[32m8.9/8.9 MB\u001b[0m \u001b[31m59.4 MB/s\u001b[0m eta \u001b[36m0:00:00\u001b[0m\n",
            "\u001b[2K     \u001b[90m━━━━━━━━━━━━━━━━━━━━━━━━━━━━━━━━━━━━━━\u001b[0m \u001b[32m164.8/164.8 kB\u001b[0m \u001b[31m17.3 MB/s\u001b[0m eta \u001b[36m0:00:00\u001b[0m\n",
            "\u001b[?25h  Preparing metadata (setup.py) ... \u001b[?25l\u001b[?25hdone\n",
            "\u001b[2K     \u001b[90m━━━━━━━━━━━━━━━━━━━━━━━━━━━━━━━━━━━━━━\u001b[0m \u001b[32m184.3/184.3 kB\u001b[0m \u001b[31m17.9 MB/s\u001b[0m eta \u001b[36m0:00:00\u001b[0m\n",
            "\u001b[2K     \u001b[90m━━━━━━━━━━━━━━━━━━━━━━━━━━━━━━━━━━━━━━━━\u001b[0m \u001b[32m4.8/4.8 MB\u001b[0m \u001b[31m92.9 MB/s\u001b[0m eta \u001b[36m0:00:00\u001b[0m\n",
            "\u001b[2K     \u001b[90m━━━━━━━━━━━━━━━━━━━━━━━━━━━━━━━━━━━━━━━━\u001b[0m \u001b[32m82.1/82.1 kB\u001b[0m \u001b[31m8.9 MB/s\u001b[0m eta \u001b[36m0:00:00\u001b[0m\n",
            "\u001b[2K     \u001b[90m━━━━━━━━━━━━━━━━━━━━━━━━━━━━━━━━━━━━━━━━\u001b[0m \u001b[32m62.7/62.7 kB\u001b[0m \u001b[31m6.5 MB/s\u001b[0m eta \u001b[36m0:00:00\u001b[0m\n",
            "\u001b[?25h  Building wheel for validators (setup.py) ... \u001b[?25l\u001b[?25hdone\n"
          ]
        }
      ],
      "source": [
        "!pip install -q streamlit"
      ]
    },
    {
      "cell_type": "code",
      "execution_count": 8,
      "metadata": {
        "colab": {
          "base_uri": "https://localhost:8080/"
        },
        "id": "ne88KW-35p18",
        "outputId": "fd1f695b-a536-4ed3-cac2-7d7af6abba67"
      },
      "outputs": [
        {
          "output_type": "stream",
          "name": "stdout",
          "text": [
            "\u001b[K\u001b[?25h\u001b[37;40mnpm\u001b[0m \u001b[0m\u001b[30;43mWARN\u001b[0m \u001b[0m\u001b[35msaveError\u001b[0m ENOENT: no such file or directory, open '/content/package.json'\n",
            "\u001b[0m\u001b[37;40mnpm\u001b[0m \u001b[0m\u001b[30;43mWARN\u001b[0m \u001b[0m\u001b[35menoent\u001b[0m ENOENT: no such file or directory, open '/content/package.json'\n",
            "\u001b[0m\u001b[37;40mnpm\u001b[0m \u001b[0m\u001b[30;43mWARN\u001b[0m\u001b[35m\u001b[0m content No description\n",
            "\u001b[0m\u001b[37;40mnpm\u001b[0m \u001b[0m\u001b[30;43mWARN\u001b[0m\u001b[35m\u001b[0m content No repository field.\n",
            "\u001b[0m\u001b[37;40mnpm\u001b[0m \u001b[0m\u001b[30;43mWARN\u001b[0m\u001b[35m\u001b[0m content No README data\n",
            "\u001b[0m\u001b[37;40mnpm\u001b[0m \u001b[0m\u001b[30;43mWARN\u001b[0m\u001b[35m\u001b[0m content No license field.\n",
            "\u001b[0m\n",
            "\u001b[K\u001b[?25h+ localtunnel@2.0.2\n",
            "updated 1 package and audited 36 packages in 0.526s\n",
            "\n",
            "3 packages are looking for funding\n",
            "  run `npm fund` for details\n",
            "\n",
            "found \u001b[92m0\u001b[0m vulnerabilities\n",
            "\n"
          ]
        }
      ],
      "source": [
        "!npm install localtunnel"
      ]
    },
    {
      "cell_type": "code",
      "execution_count": 9,
      "metadata": {
        "id": "NLb4XvifLKxh"
      },
      "outputs": [],
      "source": [
        "!streamlit run /content/app.py &>/content/logs.txt &"
      ]
    },
    {
      "cell_type": "code",
      "execution_count": 10,
      "metadata": {
        "colab": {
          "base_uri": "https://localhost:8080/"
        },
        "id": "Ds-WOxnXK-9Q",
        "outputId": "c8a1a06a-0393-4b2c-c33c-eb4ec7ee95eb"
      },
      "outputs": [
        {
          "output_type": "stream",
          "name": "stdout",
          "text": [
            "\u001b[K\u001b[?25hnpx: installed 22 in 2.074s\n",
            "your url is: https://proud-rules-draw.loca.lt\n",
            "^C\n"
          ]
        }
      ],
      "source": [
        "!npx localtunnel --port 8501"
      ]
    }
  ],
  "metadata": {
    "colab": {
      "provenance": []
    },
    "kernelspec": {
      "display_name": "Python 3",
      "name": "python3"
    },
    "language_info": {
      "name": "python"
    }
  },
  "nbformat": 4,
  "nbformat_minor": 0
}